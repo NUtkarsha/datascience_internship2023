{
 "cells": [
  {
   "cell_type": "code",
   "execution_count": null,
   "id": "1ba04c54",
   "metadata": {},
   "outputs": [],
   "source": [
    "# Single Number"
   ]
  },
  {
   "cell_type": "code",
   "execution_count": null,
   "id": "ae2dce33",
   "metadata": {},
   "outputs": [],
   "source": [
    "class Solution:\n",
    "    def singleNumber(self, nums: List[int]) -> int:\n",
    "        result = 0\n",
    "        for num in nums:\n",
    "            result ^= num\n",
    "        return result\n"
   ]
  },
  {
   "cell_type": "code",
   "execution_count": null,
   "id": "c58ba8f0",
   "metadata": {},
   "outputs": [],
   "source": [
    "# Sort Integers by The Number of 1 Bits"
   ]
  },
  {
   "cell_type": "code",
   "execution_count": null,
   "id": "a1c07f27",
   "metadata": {},
   "outputs": [],
   "source": [
    "class Solution:\n",
    "    def sortByBits(self, arr: List[int]) -> List[int]:\n",
    "        count_ones = lambda x: bin(x).count('1')\n",
    "        arr.sort(key=lambda x: (count_ones(x), x))\n",
    "        return arr\n"
   ]
  },
  {
   "cell_type": "code",
   "execution_count": null,
   "id": "4b64f853",
   "metadata": {},
   "outputs": [],
   "source": [
    "# Single Number III"
   ]
  },
  {
   "cell_type": "code",
   "execution_count": null,
   "id": "76883632",
   "metadata": {},
   "outputs": [],
   "source": [
    "class Solution:\n",
    "    def singleNumber(self, nums: List[int]) -> List[int]:\n",
    "        xor_of_two_singles = 0\n",
    "        for num in nums:\n",
    "            xor_of_two_singles ^= num\n",
    "        \n",
    "        diff_bit_pos = 0\n",
    "        mask = 1\n",
    "        while (xor_of_two_singles & mask) == 0:\n",
    "            diff_bit_pos += 1\n",
    "            mask <<= 1\n",
    "        \n",
    "        single1, single2 = 0, 0\n",
    "        for num in nums:\n",
    "            if num & (1 << diff_bit_pos):\n",
    "                single1 ^= num\n",
    "            else:\n",
    "                single2 ^= num\n",
    "        \n",
    "        return [single1, single2]\n"
   ]
  },
  {
   "cell_type": "code",
   "execution_count": null,
   "id": "70e95cab",
   "metadata": {},
   "outputs": [],
   "source": [
    "#  Subsets"
   ]
  },
  {
   "cell_type": "code",
   "execution_count": null,
   "id": "898588a8",
   "metadata": {},
   "outputs": [],
   "source": [
    "class Solution:\n",
    "    def subsets(self, nums: List[int]) -> List[List[int]]:\n",
    "        def backtrack(start, subset):\n",
    "            res.append(subset[:])\n",
    "            for i in range(start, len(nums)):\n",
    "                subset.append(nums[i])\n",
    "                backtrack(i + 1, subset)\n",
    "                subset.pop()\n",
    "        \n",
    "        res = []\n",
    "        backtrack(0, [])\n",
    "        return res"
   ]
  }
 ],
 "metadata": {
  "kernelspec": {
   "display_name": "Python 3 (ipykernel)",
   "language": "python",
   "name": "python3"
  },
  "language_info": {
   "codemirror_mode": {
    "name": "ipython",
    "version": 3
   },
   "file_extension": ".py",
   "mimetype": "text/x-python",
   "name": "python",
   "nbconvert_exporter": "python",
   "pygments_lexer": "ipython3",
   "version": "3.9.16"
  }
 },
 "nbformat": 4,
 "nbformat_minor": 5
}
