{
 "cells": [
  {
   "cell_type": "markdown",
   "id": "8e0c2247",
   "metadata": {},
   "source": [
    "Maximum Product of Two Elements in an Array"
   ]
  },
  {
   "cell_type": "markdown",
   "id": "5176a17b",
   "metadata": {},
   "source": [
    "Count Number of Teams"
   ]
  },
  {
   "cell_type": "markdown",
   "id": "e75e4b73",
   "metadata": {},
   "source": [
    "Number of Students Doing Homework at a Given Time"
   ]
  },
  {
   "cell_type": "markdown",
   "id": "1618d2de",
   "metadata": {},
   "source": [
    "Number of Steps to Reduce a Number to Zero"
   ]
  },
  {
   "cell_type": "markdown",
   "id": "a6011985",
   "metadata": {},
   "source": [
    "Counting Bits"
   ]
  },
  {
   "cell_type": "markdown",
   "id": "2e3e4cde",
   "metadata": {},
   "source": [
    "### Maximum Product of Two Elements in an Array"
   ]
  },
  {
   "cell_type": "code",
   "execution_count": 2,
   "id": "bc3e2123",
   "metadata": {},
   "outputs": [],
   "source": [
    "from typing import List"
   ]
  },
  {
   "cell_type": "code",
   "execution_count": 2,
   "id": "d393040f",
   "metadata": {},
   "outputs": [],
   "source": [
    "class Solution:\n",
    "    def maxProduct(self, nums: List[int]) -> int:\n",
    "        max1 = max2 = float('-inf')\n",
    "        for num in nums:\n",
    "            if num > max1:\n",
    "                max2 = max1\n",
    "                max1 = num\n",
    "            elif num > max2:\n",
    "                max2 = num\n",
    "        return (max1-1) * (max2-1)"
   ]
  },
  {
   "cell_type": "code",
   "execution_count": 3,
   "id": "c48ab25a",
   "metadata": {},
   "outputs": [
    {
     "name": "stdout",
     "output_type": "stream",
     "text": [
      "12\n"
     ]
    }
   ],
   "source": [
    "sol = Solution()\n",
    "res = sol.maxProduct([3,4,5,2])\n",
    "print(res)"
   ]
  },
  {
   "cell_type": "markdown",
   "id": "6c672fca",
   "metadata": {},
   "source": [
    "### Count Number of Teams"
   ]
  },
  {
   "cell_type": "code",
   "execution_count": 4,
   "id": "0da98412",
   "metadata": {},
   "outputs": [],
   "source": [
    "class Solution:\n",
    "    def numTeams(self, rating: List[int]) -> int:\n",
    "        n = len(rating)\n",
    "        count = 0\n",
    "        for i in range(1, n-1):\n",
    "            left_less, left_greater = 0, 0\n",
    "            right_less, right_greater = 0, 0\n",
    "            for j in range(i):\n",
    "                if rating[j] < rating[i]:\n",
    "                    left_less += 1\n",
    "                else:\n",
    "                    left_greater += 1\n",
    "            for k in range(i+1, n):\n",
    "                if rating[k] < rating[i]:\n",
    "                    right_less += 1\n",
    "                else:\n",
    "                    right_greater += 1\n",
    "            count += (left_less * right_greater) + (left_greater * right_less)\n",
    "        return count"
   ]
  },
  {
   "cell_type": "code",
   "execution_count": 5,
   "id": "df5f6947",
   "metadata": {},
   "outputs": [
    {
     "name": "stdout",
     "output_type": "stream",
     "text": [
      "3\n"
     ]
    }
   ],
   "source": [
    "sol = Solution()\n",
    "res = sol.numTeams([2,5,3,4,1])\n",
    "print(res)"
   ]
  },
  {
   "cell_type": "markdown",
   "id": "f43bbdc1",
   "metadata": {},
   "source": [
    "### Number of Students Doing Homework at a Given Time"
   ]
  },
  {
   "cell_type": "code",
   "execution_count": 6,
   "id": "8db93339",
   "metadata": {},
   "outputs": [],
   "source": [
    "class Solution:\n",
    "    def busyStudent(self, startTime: List[int], endTime: List[int], queryTime: int) -> int:\n",
    "        count = 0\n",
    "        for i in range(len(startTime)):\n",
    "            if startTime[i] <= queryTime <= endTime[i]:\n",
    "                count += 1\n",
    "        return count"
   ]
  },
  {
   "cell_type": "code",
   "execution_count": 7,
   "id": "cf69eeeb",
   "metadata": {},
   "outputs": [
    {
     "name": "stdout",
     "output_type": "stream",
     "text": [
      "1\n"
     ]
    }
   ],
   "source": [
    "sol = Solution()\n",
    "res = sol.busyStudent([1,2,3],[3,2,7],4)\n",
    "print(res)"
   ]
  },
  {
   "cell_type": "markdown",
   "id": "74347a76",
   "metadata": {},
   "source": [
    "### Number of Steps to Reduce a Number to Zero"
   ]
  },
  {
   "cell_type": "code",
   "execution_count": 8,
   "id": "6a1bf64f",
   "metadata": {},
   "outputs": [],
   "source": [
    "class Solution:\n",
    "    def numberOfSteps(self, num: int) -> int:\n",
    "        count = 0\n",
    "        while num != 0:\n",
    "            if num % 2 == 0:\n",
    "                num = num // 2\n",
    "            else:\n",
    "                num -= 1\n",
    "            count += 1\n",
    "        return count"
   ]
  },
  {
   "cell_type": "code",
   "execution_count": 9,
   "id": "efb30e8e",
   "metadata": {},
   "outputs": [
    {
     "name": "stdout",
     "output_type": "stream",
     "text": [
      "6\n"
     ]
    }
   ],
   "source": [
    "sol = Solution()\n",
    "res = sol.numberOfSteps(14)\n",
    "print(res)"
   ]
  },
  {
   "cell_type": "markdown",
   "id": "8efe4923",
   "metadata": {},
   "source": [
    "### Counting Bits"
   ]
  },
  {
   "cell_type": "code",
   "execution_count": 3,
   "id": "8440c09d",
   "metadata": {},
   "outputs": [],
   "source": [
    "class Solution:\n",
    "    def countBits(self, n: int) -> List[int]:\n",
    "        result = [0] * (n + 1)\n",
    "        for i in range(1, n+1):\n",
    "            if i % 2 == 0:\n",
    "                result[i] = result[i//2]\n",
    "            else:\n",
    "                result[i] = result[i//2] + 1\n",
    "        return result\n",
    "        "
   ]
  },
  {
   "cell_type": "code",
   "execution_count": 4,
   "id": "98a2140d",
   "metadata": {},
   "outputs": [
    {
     "name": "stdout",
     "output_type": "stream",
     "text": [
      "[0, 1, 1, 2, 1, 2]\n"
     ]
    }
   ],
   "source": [
    "sol = Solution()\n",
    "res = sol.countBits(5)\n",
    "print(res)"
   ]
  }
 ],
 "metadata": {
  "kernelspec": {
   "display_name": "Python 3 (ipykernel)",
   "language": "python",
   "name": "python3"
  },
  "language_info": {
   "codemirror_mode": {
    "name": "ipython",
    "version": 3
   },
   "file_extension": ".py",
   "mimetype": "text/x-python",
   "name": "python",
   "nbconvert_exporter": "python",
   "pygments_lexer": "ipython3",
   "version": "3.9.16"
  }
 },
 "nbformat": 4,
 "nbformat_minor": 5
}
