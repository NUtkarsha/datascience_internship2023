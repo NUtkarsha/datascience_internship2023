{
 "cells": [
  {
   "cell_type": "code",
   "execution_count": null,
   "id": "4dce456d",
   "metadata": {},
   "outputs": [],
   "source": [
    "# Subset"
   ]
  },
  {
   "cell_type": "code",
   "execution_count": null,
   "id": "e2912874",
   "metadata": {},
   "outputs": [],
   "source": [
    "class Solution:\n",
    "    def subsets(self, nums: List[int]) -> List[List[int]]:\n",
    "        n = len(nums)\n",
    "        res = []\n",
    "        for i in range(2**n):\n",
    "            subset = []\n",
    "            for j in range(n):\n",
    "                if i & (1 << j):\n",
    "                    subset.append(nums[j])\n",
    "            res.append(subset)\n",
    "        return res"
   ]
  },
  {
   "cell_type": "code",
   "execution_count": null,
   "id": "870e6fc0",
   "metadata": {},
   "outputs": [],
   "source": [
    "#  Hamming Distance"
   ]
  },
  {
   "cell_type": "code",
   "execution_count": null,
   "id": "773fef1f",
   "metadata": {},
   "outputs": [],
   "source": [
    "class Solution:\n",
    "    def hammingDistance(self, x: int, y: int) -> int:\n",
    "        z = x ^ y \n",
    "        count = 0\n",
    "        while z:\n",
    "            count += z & 1 \n",
    "            z >>= 1 \n",
    "        return count\n"
   ]
  },
  {
   "cell_type": "code",
   "execution_count": null,
   "id": "1700230f",
   "metadata": {},
   "outputs": [],
   "source": [
    "# Single Number II"
   ]
  },
  {
   "cell_type": "code",
   "execution_count": null,
   "id": "ea831b05",
   "metadata": {},
   "outputs": [],
   "source": [
    "class Solution:\n",
    "    def singleNumber(self, nums: List[int]) -> int:\n",
    "        ones = twos = 0 \n",
    "        for num in nums:\n",
    "            ones = (ones ^ num) & ~twos\n",
    "            twos = (twos ^ num) & ~ones\n",
    "        return ones"
   ]
  }
 ],
 "metadata": {
  "kernelspec": {
   "display_name": "Python 3 (ipykernel)",
   "language": "python",
   "name": "python3"
  },
  "language_info": {
   "codemirror_mode": {
    "name": "ipython",
    "version": 3
   },
   "file_extension": ".py",
   "mimetype": "text/x-python",
   "name": "python",
   "nbconvert_exporter": "python",
   "pygments_lexer": "ipython3",
   "version": "3.9.16"
  }
 },
 "nbformat": 4,
 "nbformat_minor": 5
}
