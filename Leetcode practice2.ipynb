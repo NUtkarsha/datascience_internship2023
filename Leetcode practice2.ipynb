{
 "cells": [
  {
   "cell_type": "markdown",
   "id": "9df163a4",
   "metadata": {},
   "source": [
    "### Defanging an IP Address"
   ]
  },
  {
   "cell_type": "code",
   "execution_count": 1,
   "id": "39835630",
   "metadata": {},
   "outputs": [],
   "source": [
    "class Solution:\n",
    "    def defangIPaddr(self, address: str) -> str:\n",
    "        return address.replace('.', '[.]')"
   ]
  },
  {
   "cell_type": "code",
   "execution_count": 2,
   "id": "da762cbf",
   "metadata": {},
   "outputs": [
    {
     "name": "stdout",
     "output_type": "stream",
     "text": [
      "255[.]100[.]50[.]0\n"
     ]
    }
   ],
   "source": [
    "sol = Solution()\n",
    "res = sol.defangIPaddr('255.100.50.0')\n",
    "print(res)"
   ]
  },
  {
   "cell_type": "markdown",
   "id": "0985b514",
   "metadata": {},
   "source": [
    "### Find Numbers with Even Number of Digits"
   ]
  },
  {
   "cell_type": "code",
   "execution_count": 3,
   "id": "a5d9e833",
   "metadata": {},
   "outputs": [],
   "source": [
    "from typing import List"
   ]
  },
  {
   "cell_type": "code",
   "execution_count": 4,
   "id": "ecac7624",
   "metadata": {},
   "outputs": [],
   "source": [
    "class Solution:\n",
    "    def findNumbers(self, nums: List[int]) -> int:\n",
    "         return len([x for x in nums if len(str(x)) % 2 == 0])"
   ]
  },
  {
   "cell_type": "code",
   "execution_count": 5,
   "id": "ed878703",
   "metadata": {},
   "outputs": [
    {
     "name": "stdout",
     "output_type": "stream",
     "text": [
      "2\n"
     ]
    }
   ],
   "source": [
    "sol = Solution()\n",
    "res = sol.findNumbers([12,345,2,6,7896])\n",
    "print(res)"
   ]
  },
  {
   "cell_type": "markdown",
   "id": "bfdc58d7",
   "metadata": {},
   "source": [
    "### Number of Good Pairs"
   ]
  },
  {
   "cell_type": "code",
   "execution_count": 6,
   "id": "02166174",
   "metadata": {},
   "outputs": [],
   "source": [
    "class Solution:\n",
    "    def numIdenticalPairs(self, nums: List[int]) -> int:\n",
    "        total = 0\n",
    "        num_cnt = {}\n",
    "\n",
    "        for num in nums:\n",
    "            if num in num_cnt:\n",
    "                total += num_cnt[num]\n",
    "                num_cnt[num] += 1\n",
    "            else:\n",
    "                num_cnt[num] = 1\n",
    "\n",
    "        return total"
   ]
  },
  {
   "cell_type": "code",
   "execution_count": 7,
   "id": "6c5e95da",
   "metadata": {},
   "outputs": [
    {
     "name": "stdout",
     "output_type": "stream",
     "text": [
      "4\n"
     ]
    }
   ],
   "source": [
    "sol =Solution()\n",
    "res = sol.numIdenticalPairs([1,2,3,1,1,3])\n",
    "print(res)"
   ]
  },
  {
   "cell_type": "markdown",
   "id": "e9ae3f09",
   "metadata": {},
   "source": [
    "### How Many Numbers Are Smaller Than the Current Number"
   ]
  },
  {
   "cell_type": "code",
   "execution_count": 8,
   "id": "bad85b43",
   "metadata": {},
   "outputs": [],
   "source": [
    "class Solution:\n",
    "    def smallerNumbersThanCurrent(self, nums: List[int]) -> List[int]:\n",
    "        freq = [0] * 101\n",
    "        for num in nums:\n",
    "            freq[num] += 1\n",
    "        smaller_cnt = [0] * 101\n",
    "        for i in range(1, 101):\n",
    "            smaller_cnt[i] = smaller_cnt[i-1] + freq[i-1]\n",
    "        return [smaller_cnt[num] for num in nums]"
   ]
  },
  {
   "cell_type": "code",
   "execution_count": 9,
   "id": "330f4c07",
   "metadata": {},
   "outputs": [
    {
     "name": "stdout",
     "output_type": "stream",
     "text": [
      "[4, 0, 1, 1, 3]\n"
     ]
    }
   ],
   "source": [
    "sol = Solution()\n",
    "res = sol.smallerNumbersThanCurrent([8,1,2,2,3])\n",
    "print(res)"
   ]
  },
  {
   "cell_type": "markdown",
   "id": "0e87fa24",
   "metadata": {},
   "source": [
    "### Subtract the Product and Sum of Digits of an Integer"
   ]
  },
  {
   "cell_type": "code",
   "execution_count": 10,
   "id": "81156087",
   "metadata": {},
   "outputs": [],
   "source": [
    "class Solution:\n",
    "    def subtractProductAndSum(self, n: int) -> int:\n",
    "        num = str(n)\n",
    "        add = 0\n",
    "        product = 1\n",
    "        for digit in num:\n",
    "            add = add + int(digit)\n",
    "            product = product * int(digit)\n",
    "        return product - add"
   ]
  },
  {
   "cell_type": "code",
   "execution_count": 11,
   "id": "74b3172b",
   "metadata": {},
   "outputs": [
    {
     "name": "stdout",
     "output_type": "stream",
     "text": [
      "21\n"
     ]
    }
   ],
   "source": [
    "sol = Solution()\n",
    "res = sol.subtractProductAndSum(4421)\n",
    "print(res)"
   ]
  },
  {
   "cell_type": "markdown",
   "id": "f398777f",
   "metadata": {},
   "source": [
    "### XOR Operation in an Array"
   ]
  },
  {
   "cell_type": "code",
   "execution_count": 12,
   "id": "2c1f8b17",
   "metadata": {},
   "outputs": [],
   "source": [
    "class Solution:\n",
    "    def xorOperation(self, n: int, start: int) -> int:\n",
    "        nums = [start + 2*i for i in range(n)] \n",
    "        result = nums[0]  \n",
    "        for i in range(1, n):\n",
    "            result ^= nums[i] \n",
    "        return result"
   ]
  },
  {
   "cell_type": "code",
   "execution_count": 13,
   "id": "c7a2c879",
   "metadata": {},
   "outputs": [
    {
     "name": "stdout",
     "output_type": "stream",
     "text": [
      "8\n"
     ]
    }
   ],
   "source": [
    "sol = Solution()\n",
    "res = sol.xorOperation(5,0)\n",
    "print(res)"
   ]
  }
 ],
 "metadata": {
  "kernelspec": {
   "display_name": "Python 3 (ipykernel)",
   "language": "python",
   "name": "python3"
  },
  "language_info": {
   "codemirror_mode": {
    "name": "ipython",
    "version": 3
   },
   "file_extension": ".py",
   "mimetype": "text/x-python",
   "name": "python",
   "nbconvert_exporter": "python",
   "pygments_lexer": "ipython3",
   "version": "3.9.16"
  }
 },
 "nbformat": 4,
 "nbformat_minor": 5
}
