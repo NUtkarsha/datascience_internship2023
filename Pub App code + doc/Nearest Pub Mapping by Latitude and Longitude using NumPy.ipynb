{
 "cells": [
  {
   "cell_type": "markdown",
   "id": "c787ddcb",
   "metadata": {},
   "source": [
    "### Importing Necessary Libraries"
   ]
  },
  {
   "cell_type": "code",
   "execution_count": 2,
   "id": "473dad17",
   "metadata": {},
   "outputs": [],
   "source": [
    "import pandas as pd\n",
    "import numpy as np"
   ]
  },
  {
   "cell_type": "markdown",
   "id": "e1831ea2",
   "metadata": {},
   "source": [
    "### Importing the Dataset Reqired for the Task"
   ]
  },
  {
   "cell_type": "code",
   "execution_count": 3,
   "id": "be880d1b",
   "metadata": {},
   "outputs": [
    {
     "data": {
      "text/html": [
       "<div>\n",
       "<style scoped>\n",
       "    .dataframe tbody tr th:only-of-type {\n",
       "        vertical-align: middle;\n",
       "    }\n",
       "\n",
       "    .dataframe tbody tr th {\n",
       "        vertical-align: top;\n",
       "    }\n",
       "\n",
       "    .dataframe thead th {\n",
       "        text-align: right;\n",
       "    }\n",
       "</style>\n",
       "<table border=\"1\" class=\"dataframe\">\n",
       "  <thead>\n",
       "    <tr style=\"text-align: right;\">\n",
       "      <th></th>\n",
       "      <th>0</th>\n",
       "      <th>1</th>\n",
       "      <th>2</th>\n",
       "      <th>3</th>\n",
       "      <th>4</th>\n",
       "      <th>5</th>\n",
       "      <th>6</th>\n",
       "      <th>7</th>\n",
       "      <th>8</th>\n",
       "    </tr>\n",
       "  </thead>\n",
       "  <tbody>\n",
       "    <tr>\n",
       "      <th>0</th>\n",
       "      <td>22</td>\n",
       "      <td>Anchor Inn</td>\n",
       "      <td>Upper Street, Stratford St Mary, COLCHESTER</td>\n",
       "      <td>CO7 6LW</td>\n",
       "      <td>604749</td>\n",
       "      <td>234404</td>\n",
       "      <td>51.970379</td>\n",
       "      <td>0.979340</td>\n",
       "      <td>Babergh</td>\n",
       "    </tr>\n",
       "    <tr>\n",
       "      <th>1</th>\n",
       "      <td>36</td>\n",
       "      <td>Ark Bar Restaurant</td>\n",
       "      <td>Ark Bar And Restaurant, Cattawade Street, Bran...</td>\n",
       "      <td>CO11 1RH</td>\n",
       "      <td>610194</td>\n",
       "      <td>233329</td>\n",
       "      <td>51.958698</td>\n",
       "      <td>1.057832</td>\n",
       "      <td>Babergh</td>\n",
       "    </tr>\n",
       "    <tr>\n",
       "      <th>2</th>\n",
       "      <td>74</td>\n",
       "      <td>Black Boy</td>\n",
       "      <td>The Lady Elizabeth, 7 Market Hill, SUDBURY, Su...</td>\n",
       "      <td>CO10 2EA</td>\n",
       "      <td>587334</td>\n",
       "      <td>241316</td>\n",
       "      <td>52.038595</td>\n",
       "      <td>0.729915</td>\n",
       "      <td>Babergh</td>\n",
       "    </tr>\n",
       "    <tr>\n",
       "      <th>3</th>\n",
       "      <td>75</td>\n",
       "      <td>Black Horse</td>\n",
       "      <td>Lower Street, Stratford St Mary, COLCHESTER</td>\n",
       "      <td>CO7 6JS</td>\n",
       "      <td>622675</td>\n",
       "      <td>-5527598</td>\n",
       "      <td>\\N</td>\n",
       "      <td>\\N</td>\n",
       "      <td>Babergh</td>\n",
       "    </tr>\n",
       "    <tr>\n",
       "      <th>4</th>\n",
       "      <td>76</td>\n",
       "      <td>Black Lion</td>\n",
       "      <td>Lion Road, Glemsford, SUDBURY</td>\n",
       "      <td>CO10 7RF</td>\n",
       "      <td>622675</td>\n",
       "      <td>-5527598</td>\n",
       "      <td>\\N</td>\n",
       "      <td>\\N</td>\n",
       "      <td>Babergh</td>\n",
       "    </tr>\n",
       "  </tbody>\n",
       "</table>\n",
       "</div>"
      ],
      "text/plain": [
       "    0                   1                                                  2  \\\n",
       "0  22          Anchor Inn        Upper Street, Stratford St Mary, COLCHESTER   \n",
       "1  36  Ark Bar Restaurant  Ark Bar And Restaurant, Cattawade Street, Bran...   \n",
       "2  74           Black Boy  The Lady Elizabeth, 7 Market Hill, SUDBURY, Su...   \n",
       "3  75         Black Horse        Lower Street, Stratford St Mary, COLCHESTER   \n",
       "4  76          Black Lion                      Lion Road, Glemsford, SUDBURY   \n",
       "\n",
       "          3       4        5          6         7        8  \n",
       "0   CO7 6LW  604749   234404  51.970379  0.979340  Babergh  \n",
       "1  CO11 1RH  610194   233329  51.958698  1.057832  Babergh  \n",
       "2  CO10 2EA  587334   241316  52.038595  0.729915  Babergh  \n",
       "3   CO7 6JS  622675 -5527598         \\N        \\N  Babergh  \n",
       "4  CO10 7RF  622675 -5527598         \\N        \\N  Babergh  "
      ]
     },
     "execution_count": 3,
     "metadata": {},
     "output_type": "execute_result"
    }
   ],
   "source": [
    "df=pd.read_csv(r\"C:\\Users\\SHREE\\Downloads\\Python CODES\\Nearest Pub Mapping using Latitude and Longitude\\open_pubs.csv\",\n",
    "               header=None, keep_default_na=False)\n",
    "df.head()"
   ]
  },
  {
   "cell_type": "markdown",
   "id": "7d8afb0d",
   "metadata": {},
   "source": [
    "### Adding Names to the Columns"
   ]
  },
  {
   "cell_type": "code",
   "execution_count": 4,
   "id": "2819bffe",
   "metadata": {},
   "outputs": [
    {
     "data": {
      "text/html": [
       "<div>\n",
       "<style scoped>\n",
       "    .dataframe tbody tr th:only-of-type {\n",
       "        vertical-align: middle;\n",
       "    }\n",
       "\n",
       "    .dataframe tbody tr th {\n",
       "        vertical-align: top;\n",
       "    }\n",
       "\n",
       "    .dataframe thead th {\n",
       "        text-align: right;\n",
       "    }\n",
       "</style>\n",
       "<table border=\"1\" class=\"dataframe\">\n",
       "  <thead>\n",
       "    <tr style=\"text-align: right;\">\n",
       "      <th></th>\n",
       "      <th>fsa_id</th>\n",
       "      <th>name</th>\n",
       "      <th>address</th>\n",
       "      <th>postcode</th>\n",
       "      <th>easting</th>\n",
       "      <th>northing</th>\n",
       "      <th>latitude</th>\n",
       "      <th>longitude</th>\n",
       "      <th>local_authority</th>\n",
       "    </tr>\n",
       "  </thead>\n",
       "  <tbody>\n",
       "    <tr>\n",
       "      <th>0</th>\n",
       "      <td>22</td>\n",
       "      <td>Anchor Inn</td>\n",
       "      <td>Upper Street, Stratford St Mary, COLCHESTER</td>\n",
       "      <td>CO7 6LW</td>\n",
       "      <td>604749</td>\n",
       "      <td>234404</td>\n",
       "      <td>51.970379</td>\n",
       "      <td>0.979340</td>\n",
       "      <td>Babergh</td>\n",
       "    </tr>\n",
       "    <tr>\n",
       "      <th>1</th>\n",
       "      <td>36</td>\n",
       "      <td>Ark Bar Restaurant</td>\n",
       "      <td>Ark Bar And Restaurant, Cattawade Street, Bran...</td>\n",
       "      <td>CO11 1RH</td>\n",
       "      <td>610194</td>\n",
       "      <td>233329</td>\n",
       "      <td>51.958698</td>\n",
       "      <td>1.057832</td>\n",
       "      <td>Babergh</td>\n",
       "    </tr>\n",
       "    <tr>\n",
       "      <th>2</th>\n",
       "      <td>74</td>\n",
       "      <td>Black Boy</td>\n",
       "      <td>The Lady Elizabeth, 7 Market Hill, SUDBURY, Su...</td>\n",
       "      <td>CO10 2EA</td>\n",
       "      <td>587334</td>\n",
       "      <td>241316</td>\n",
       "      <td>52.038595</td>\n",
       "      <td>0.729915</td>\n",
       "      <td>Babergh</td>\n",
       "    </tr>\n",
       "    <tr>\n",
       "      <th>3</th>\n",
       "      <td>75</td>\n",
       "      <td>Black Horse</td>\n",
       "      <td>Lower Street, Stratford St Mary, COLCHESTER</td>\n",
       "      <td>CO7 6JS</td>\n",
       "      <td>622675</td>\n",
       "      <td>-5527598</td>\n",
       "      <td>\\N</td>\n",
       "      <td>\\N</td>\n",
       "      <td>Babergh</td>\n",
       "    </tr>\n",
       "    <tr>\n",
       "      <th>4</th>\n",
       "      <td>76</td>\n",
       "      <td>Black Lion</td>\n",
       "      <td>Lion Road, Glemsford, SUDBURY</td>\n",
       "      <td>CO10 7RF</td>\n",
       "      <td>622675</td>\n",
       "      <td>-5527598</td>\n",
       "      <td>\\N</td>\n",
       "      <td>\\N</td>\n",
       "      <td>Babergh</td>\n",
       "    </tr>\n",
       "  </tbody>\n",
       "</table>\n",
       "</div>"
      ],
      "text/plain": [
       "   fsa_id                name  \\\n",
       "0      22          Anchor Inn   \n",
       "1      36  Ark Bar Restaurant   \n",
       "2      74           Black Boy   \n",
       "3      75         Black Horse   \n",
       "4      76          Black Lion   \n",
       "\n",
       "                                             address  postcode  easting  \\\n",
       "0        Upper Street, Stratford St Mary, COLCHESTER   CO7 6LW   604749   \n",
       "1  Ark Bar And Restaurant, Cattawade Street, Bran...  CO11 1RH   610194   \n",
       "2  The Lady Elizabeth, 7 Market Hill, SUDBURY, Su...  CO10 2EA   587334   \n",
       "3        Lower Street, Stratford St Mary, COLCHESTER   CO7 6JS   622675   \n",
       "4                      Lion Road, Glemsford, SUDBURY  CO10 7RF   622675   \n",
       "\n",
       "   northing   latitude longitude local_authority  \n",
       "0    234404  51.970379  0.979340         Babergh  \n",
       "1    233329  51.958698  1.057832         Babergh  \n",
       "2    241316  52.038595  0.729915         Babergh  \n",
       "3  -5527598         \\N        \\N         Babergh  \n",
       "4  -5527598         \\N        \\N         Babergh  "
      ]
     },
     "execution_count": 4,
     "metadata": {},
     "output_type": "execute_result"
    }
   ],
   "source": [
    "df.columns=['fsa_id','name','address','postcode','easting','northing','latitude','longitude','local_authority']\n",
    "df.head()"
   ]
  },
  {
   "cell_type": "markdown",
   "id": "3f54cd6e",
   "metadata": {},
   "source": [
    "### Understanding the Dataset"
   ]
  },
  {
   "cell_type": "code",
   "execution_count": 5,
   "id": "f62cac62",
   "metadata": {},
   "outputs": [
    {
     "data": {
      "text/plain": [
       "(51331, 9)"
      ]
     },
     "execution_count": 5,
     "metadata": {},
     "output_type": "execute_result"
    }
   ],
   "source": [
    "df.shape"
   ]
  },
  {
   "cell_type": "code",
   "execution_count": 6,
   "id": "7a909c49",
   "metadata": {},
   "outputs": [
    {
     "name": "stdout",
     "output_type": "stream",
     "text": [
      "<class 'pandas.core.frame.DataFrame'>\n",
      "RangeIndex: 51331 entries, 0 to 51330\n",
      "Data columns (total 9 columns):\n",
      " #   Column           Non-Null Count  Dtype \n",
      "---  ------           --------------  ----- \n",
      " 0   fsa_id           51331 non-null  int64 \n",
      " 1   name             51331 non-null  object\n",
      " 2   address          51331 non-null  object\n",
      " 3   postcode         51331 non-null  object\n",
      " 4   easting          51331 non-null  int64 \n",
      " 5   northing         51331 non-null  int64 \n",
      " 6   latitude         51331 non-null  object\n",
      " 7   longitude        51331 non-null  object\n",
      " 8   local_authority  51331 non-null  object\n",
      "dtypes: int64(3), object(6)\n",
      "memory usage: 3.5+ MB\n"
     ]
    }
   ],
   "source": [
    "df.info()"
   ]
  },
  {
   "cell_type": "code",
   "execution_count": 7,
   "id": "e31815b5",
   "metadata": {},
   "outputs": [
    {
     "data": {
      "text/plain": [
       "fsa_id             0\n",
       "name               0\n",
       "address            0\n",
       "postcode           0\n",
       "easting            0\n",
       "northing           0\n",
       "latitude           0\n",
       "longitude          0\n",
       "local_authority    0\n",
       "dtype: int64"
      ]
     },
     "execution_count": 7,
     "metadata": {},
     "output_type": "execute_result"
    }
   ],
   "source": [
    "df.isna().sum()"
   ]
  },
  {
   "cell_type": "markdown",
   "id": "b167bab6",
   "metadata": {},
   "source": [
    "### There are missing value and are named as \\N. \n",
    "- Checking how many such rows we have in our dataset and removing those rows."
   ]
  },
  {
   "cell_type": "code",
   "execution_count": 9,
   "id": "feea49d8",
   "metadata": {},
   "outputs": [],
   "source": [
    "# Creating a function for checking \"\\N\" values $ Replacing them with \"nan\"\n",
    "\n",
    "def change_N_to_nan(col_val):\n",
    "    if col_val==r'\\N':\n",
    "        return np.nan\n",
    "    else:\n",
    "        return col_val\n",
    "\n",
    "df['fsa_id']=df['fsa_id'].apply(change_N_to_nan)\n",
    "df['name']=df['name'].apply(change_N_to_nan)\n",
    "df['address']=df['address'].apply(change_N_to_nan)\n",
    "df['postcode']=df['postcode'].apply(change_N_to_nan)\n",
    "df['easting']=df['easting'].apply(change_N_to_nan)\n",
    "df['northing']=df['northing'].apply(change_N_to_nan)\n",
    "df['latitude']=df['latitude'].apply(change_N_to_nan)\n",
    "df['longitude']=df['longitude'].apply(change_N_to_nan)\n",
    "df['local_authority']=df['local_authority'].apply(change_N_to_nan)"
   ]
  },
  {
   "cell_type": "code",
   "execution_count": 10,
   "id": "f93cc02c",
   "metadata": {},
   "outputs": [
    {
     "data": {
      "text/plain": [
       "fsa_id               0\n",
       "name                 0\n",
       "address              0\n",
       "postcode             0\n",
       "easting              0\n",
       "northing             0\n",
       "latitude           767\n",
       "longitude          767\n",
       "local_authority      0\n",
       "dtype: int64"
      ]
     },
     "execution_count": 10,
     "metadata": {},
     "output_type": "execute_result"
    }
   ],
   "source": [
    "df.isna().sum()"
   ]
  },
  {
   "cell_type": "code",
   "execution_count": 11,
   "id": "991a7b80",
   "metadata": {},
   "outputs": [
    {
     "data": {
      "text/plain": [
       "fsa_id             0\n",
       "name               0\n",
       "address            0\n",
       "postcode           0\n",
       "easting            0\n",
       "northing           0\n",
       "latitude           0\n",
       "longitude          0\n",
       "local_authority    0\n",
       "dtype: int64"
      ]
     },
     "execution_count": 11,
     "metadata": {},
     "output_type": "execute_result"
    }
   ],
   "source": [
    "# Droping the \"nan\" values\n",
    "\n",
    "df.dropna(axis=0, inplace=True)\n",
    "df.isna().sum()"
   ]
  },
  {
   "cell_type": "markdown",
   "id": "cbccbb42",
   "metadata": {},
   "source": [
    "### Changing the Datatype of Longitude and Latitude to Float"
   ]
  },
  {
   "cell_type": "code",
   "execution_count": 12,
   "id": "a9ab2a1f",
   "metadata": {},
   "outputs": [],
   "source": [
    "df['longitude']=df['longitude'].astype(float)\n",
    "df['latitude']=df['latitude'].astype(float)"
   ]
  },
  {
   "cell_type": "code",
   "execution_count": 13,
   "id": "7efbac58",
   "metadata": {},
   "outputs": [
    {
     "data": {
      "text/plain": [
       "fsa_id               int64\n",
       "name                object\n",
       "address             object\n",
       "postcode            object\n",
       "easting              int64\n",
       "northing             int64\n",
       "latitude           float64\n",
       "longitude          float64\n",
       "local_authority     object\n",
       "dtype: object"
      ]
     },
     "execution_count": 13,
     "metadata": {},
     "output_type": "execute_result"
    }
   ],
   "source": [
    "df.dtypes"
   ]
  },
  {
   "cell_type": "markdown",
   "id": "d17a985c",
   "metadata": {},
   "source": [
    "### Total Pub"
   ]
  },
  {
   "cell_type": "code",
   "execution_count": 14,
   "id": "57cb14d7",
   "metadata": {},
   "outputs": [
    {
     "data": {
      "text/plain": [
       "35809"
      ]
     },
     "execution_count": 14,
     "metadata": {},
     "output_type": "execute_result"
    }
   ],
   "source": [
    "df['name'].nunique()"
   ]
  },
  {
   "cell_type": "markdown",
   "id": "645db55d",
   "metadata": {},
   "source": [
    "### Total Local Authorities"
   ]
  },
  {
   "cell_type": "code",
   "execution_count": 15,
   "id": "a11b6a83",
   "metadata": {},
   "outputs": [
    {
     "data": {
      "text/plain": [
       "360"
      ]
     },
     "execution_count": 15,
     "metadata": {},
     "output_type": "execute_result"
    }
   ],
   "source": [
    "df['local_authority'].nunique()"
   ]
  },
  {
   "cell_type": "markdown",
   "id": "c2f959b2",
   "metadata": {},
   "source": [
    "### Clean Dataset"
   ]
  },
  {
   "cell_type": "code",
   "execution_count": 16,
   "id": "ed2d9082",
   "metadata": {},
   "outputs": [],
   "source": [
    "df.to_csv(r\"C:\\Users\\SHREE\\Downloads\\Python CODES\\Nearest Pub Mapping using Latitude and Longitude\\open_pubs.csv\", index=False)"
   ]
  },
  {
   "cell_type": "markdown",
   "id": "8e12bcab",
   "metadata": {},
   "source": [
    "### Nearby Pubs Mapping by latitude and longitude"
   ]
  },
  {
   "cell_type": "code",
   "execution_count": 17,
   "id": "d77355fa",
   "metadata": {},
   "outputs": [
    {
     "name": "stdout",
     "output_type": "stream",
     "text": [
      "51.970388\n",
      "1.057536\n"
     ]
    },
    {
     "data": {
      "text/plain": [
       "array([51.970388,  1.057536])"
      ]
     },
     "execution_count": 17,
     "metadata": {},
     "output_type": "execute_result"
    }
   ],
   "source": [
    "points=np.array((float(input()),float(input())))\n",
    "points"
   ]
  },
  {
   "cell_type": "markdown",
   "id": "c314a29e",
   "metadata": {},
   "source": [
    "### Convert latitude and longitude to array"
   ]
  },
  {
   "cell_type": "code",
   "execution_count": 18,
   "id": "390d2430",
   "metadata": {},
   "outputs": [
    {
     "data": {
      "text/plain": [
       "array([[51.970379,  0.97934 ],\n",
       "       [51.958698,  1.057832],\n",
       "       [52.038595,  0.729915],\n",
       "       ...,\n",
       "       [53.044998, -2.996966],\n",
       "       [53.053094, -2.959124],\n",
       "       [53.076638, -3.050512]])"
      ]
     },
     "execution_count": 18,
     "metadata": {},
     "output_type": "execute_result"
    }
   ],
   "source": [
    "arr=np.array([df['latitude'],df['longitude']]).T\n",
    "arr"
   ]
  },
  {
   "cell_type": "markdown",
   "id": "cd0d4891",
   "metadata": {},
   "source": [
    "### Calculating Distance between the given Latitude & Longitude"
   ]
  },
  {
   "cell_type": "code",
   "execution_count": 19,
   "id": "7b2f00ac",
   "metadata": {},
   "outputs": [
    {
     "data": {
      "text/plain": [
       "array([6.11461450e-03, 1.36743716e-04, 1.11987714e-01, ...,\n",
       "       1.75937731e+01, 1.73058098e+01, 1.80998474e+01])"
      ]
     },
     "execution_count": 19,
     "metadata": {},
     "output_type": "execute_result"
    }
   ],
   "source": [
    "dis=np.sum((arr-points)**2, axis=1)\n",
    "dis"
   ]
  },
  {
   "cell_type": "code",
   "execution_count": 20,
   "id": "40825cab",
   "metadata": {},
   "outputs": [],
   "source": [
    "df['Distance']=dis"
   ]
  },
  {
   "cell_type": "markdown",
   "id": "a3d85002",
   "metadata": {},
   "source": [
    "## 5 Nearest Pub Locations"
   ]
  },
  {
   "cell_type": "code",
   "execution_count": 21,
   "id": "89022d4e",
   "metadata": {},
   "outputs": [
    {
     "data": {
      "text/html": [
       "<div>\n",
       "<style scoped>\n",
       "    .dataframe tbody tr th:only-of-type {\n",
       "        vertical-align: middle;\n",
       "    }\n",
       "\n",
       "    .dataframe tbody tr th {\n",
       "        vertical-align: top;\n",
       "    }\n",
       "\n",
       "    .dataframe thead th {\n",
       "        text-align: right;\n",
       "    }\n",
       "</style>\n",
       "<table border=\"1\" class=\"dataframe\">\n",
       "  <thead>\n",
       "    <tr style=\"text-align: right;\">\n",
       "      <th></th>\n",
       "      <th>fsa_id</th>\n",
       "      <th>name</th>\n",
       "      <th>address</th>\n",
       "      <th>postcode</th>\n",
       "      <th>easting</th>\n",
       "      <th>northing</th>\n",
       "      <th>latitude</th>\n",
       "      <th>longitude</th>\n",
       "      <th>local_authority</th>\n",
       "      <th>Distance</th>\n",
       "    </tr>\n",
       "  </thead>\n",
       "  <tbody>\n",
       "    <tr>\n",
       "      <th>29</th>\n",
       "      <td>591</td>\n",
       "      <td>Royal Oak</td>\n",
       "      <td>Royal Oak, East End Lane, East Bergholt, COLCH...</td>\n",
       "      <td>CO7 6XA</td>\n",
       "      <td>609998</td>\n",
       "      <td>235171</td>\n",
       "      <td>51.975311</td>\n",
       "      <td>1.056110</td>\n",
       "      <td>Babergh</td>\n",
       "      <td>0.000026</td>\n",
       "    </tr>\n",
       "    <tr>\n",
       "      <th>60</th>\n",
       "      <td>797</td>\n",
       "      <td>The Grange</td>\n",
       "      <td>The Grange Country Park, Straight Road, East B...</td>\n",
       "      <td>CO7 6UX</td>\n",
       "      <td>609841</td>\n",
       "      <td>235186</td>\n",
       "      <td>51.975506</td>\n",
       "      <td>1.053837</td>\n",
       "      <td>Babergh</td>\n",
       "      <td>0.000040</td>\n",
       "    </tr>\n",
       "    <tr>\n",
       "      <th>1</th>\n",
       "      <td>36</td>\n",
       "      <td>Ark Bar Restaurant</td>\n",
       "      <td>Ark Bar And Restaurant, Cattawade Street, Bran...</td>\n",
       "      <td>CO11 1RH</td>\n",
       "      <td>610194</td>\n",
       "      <td>233329</td>\n",
       "      <td>51.958698</td>\n",
       "      <td>1.057832</td>\n",
       "      <td>Babergh</td>\n",
       "      <td>0.000137</td>\n",
       "    </tr>\n",
       "    <tr>\n",
       "      <th>52</th>\n",
       "      <td>775</td>\n",
       "      <td>The Crown Inn</td>\n",
       "      <td>Crown Inn, Cattawade Street, Brantham, MANNING...</td>\n",
       "      <td>CO11 1RE</td>\n",
       "      <td>610209</td>\n",
       "      <td>233104</td>\n",
       "      <td>51.956673</td>\n",
       "      <td>1.057912</td>\n",
       "      <td>Babergh</td>\n",
       "      <td>0.000188</td>\n",
       "    </tr>\n",
       "    <tr>\n",
       "      <th>3987</th>\n",
       "      <td>47315</td>\n",
       "      <td>Skinners Arms</td>\n",
       "      <td>Station Road, Lawford, Essex</td>\n",
       "      <td>CO11 1DX</td>\n",
       "      <td>610493</td>\n",
       "      <td>231873</td>\n",
       "      <td>51.945514</td>\n",
       "      <td>1.061287</td>\n",
       "      <td>Tendring</td>\n",
       "      <td>0.000633</td>\n",
       "    </tr>\n",
       "  </tbody>\n",
       "</table>\n",
       "</div>"
      ],
      "text/plain": [
       "      fsa_id                name  \\\n",
       "29       591           Royal Oak   \n",
       "60       797          The Grange   \n",
       "1         36  Ark Bar Restaurant   \n",
       "52       775       The Crown Inn   \n",
       "3987   47315       Skinners Arms   \n",
       "\n",
       "                                                address  postcode  easting  \\\n",
       "29    Royal Oak, East End Lane, East Bergholt, COLCH...   CO7 6XA   609998   \n",
       "60    The Grange Country Park, Straight Road, East B...   CO7 6UX   609841   \n",
       "1     Ark Bar And Restaurant, Cattawade Street, Bran...  CO11 1RH   610194   \n",
       "52    Crown Inn, Cattawade Street, Brantham, MANNING...  CO11 1RE   610209   \n",
       "3987                       Station Road, Lawford, Essex  CO11 1DX   610493   \n",
       "\n",
       "      northing   latitude  longitude local_authority  Distance  \n",
       "29      235171  51.975311   1.056110         Babergh  0.000026  \n",
       "60      235186  51.975506   1.053837         Babergh  0.000040  \n",
       "1       233329  51.958698   1.057832         Babergh  0.000137  \n",
       "52      233104  51.956673   1.057912         Babergh  0.000188  \n",
       "3987    231873  51.945514   1.061287        Tendring  0.000633  "
      ]
     },
     "execution_count": 21,
     "metadata": {},
     "output_type": "execute_result"
    }
   ],
   "source": [
    "df.sort_values(by='Distance', ascending=True)[:5]"
   ]
  }
 ],
 "metadata": {
  "kernelspec": {
   "display_name": "Python 3 (ipykernel)",
   "language": "python",
   "name": "python3"
  },
  "language_info": {
   "codemirror_mode": {
    "name": "ipython",
    "version": 3
   },
   "file_extension": ".py",
   "mimetype": "text/x-python",
   "name": "python",
   "nbconvert_exporter": "python",
   "pygments_lexer": "ipython3",
   "version": "3.9.16"
  }
 },
 "nbformat": 4,
 "nbformat_minor": 5
}
