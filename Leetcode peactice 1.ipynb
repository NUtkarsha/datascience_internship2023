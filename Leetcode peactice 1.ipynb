{
 "cells": [
  {
   "cell_type": "code",
   "execution_count": 1,
   "id": "22b5dbe4",
   "metadata": {},
   "outputs": [],
   "source": [
    "from typing import List"
   ]
  },
  {
   "cell_type": "markdown",
   "id": "bcc831ba",
   "metadata": {},
   "source": [
    "### Running Sum of 1d Array"
   ]
  },
  {
   "cell_type": "code",
   "execution_count": 2,
   "id": "fe61ac9d",
   "metadata": {},
   "outputs": [],
   "source": [
    "class Solution(object):\n",
    "    def runningSum(self, nums: List[int], n: int) -> List[int]:\n",
    "        \n",
    "        output=[]\n",
    "        t=0\n",
    "        for i in range(len(nums)):\n",
    "            t+=nums[i]\n",
    "            output.append(t)\n",
    "        return output"
   ]
  },
  {
   "cell_type": "code",
   "execution_count": 3,
   "id": "26fc3421",
   "metadata": {},
   "outputs": [
    {
     "name": "stdout",
     "output_type": "stream",
     "text": [
      "[1, 3, 6, 10, 15]\n"
     ]
    }
   ],
   "source": [
    "sol = Solution()\n",
    "nums = [1,2,3,4,5]\n",
    "n=5\n",
    "print(sol.runningSum(nums,n))"
   ]
  },
  {
   "cell_type": "markdown",
   "id": "f9ee4913",
   "metadata": {},
   "source": [
    "### Shuffle the Array"
   ]
  },
  {
   "cell_type": "code",
   "execution_count": 4,
   "id": "f1af72de",
   "metadata": {},
   "outputs": [],
   "source": [
    "class Solution:\n",
    "    def shuffle(self, nums: List[int], n: int) -> List[int]:\n",
    "\n",
    "        output = []\n",
    "        for i in range(n):\n",
    "            first_half = nums[i]\n",
    "            second_half = nums[n + i]\n",
    "            output.append(first_half)\n",
    "            output.append(second_half)\n",
    "        return output\n"
   ]
  },
  {
   "cell_type": "code",
   "execution_count": 5,
   "id": "0094dbe5",
   "metadata": {},
   "outputs": [
    {
     "name": "stdout",
     "output_type": "stream",
     "text": [
      "[1, 4, 2, 3, 3, 2, 4, 1]\n"
     ]
    }
   ],
   "source": [
    "sol = Solution()\n",
    "nums = [1,2,3,4,4,3,2,1]\n",
    "n=4\n",
    "print(sol.shuffle(nums,n))"
   ]
  },
  {
   "cell_type": "markdown",
   "id": "31228638",
   "metadata": {},
   "source": [
    "### Kids With the Greatest Number of Candies"
   ]
  },
  {
   "cell_type": "code",
   "execution_count": 6,
   "id": "27e03474",
   "metadata": {},
   "outputs": [],
   "source": [
    "class Solution:\n",
    "    def kidsWithCandies(self, candies: List[int], extraCandies: int) -> List[bool]:\n",
    "        max_candies = max(candies)\n",
    "        result = [candy + extraCandies >= max_candies for candy in candies]\n",
    "        return result"
   ]
  },
  {
   "cell_type": "code",
   "execution_count": 7,
   "id": "a9177175",
   "metadata": {},
   "outputs": [
    {
     "name": "stdout",
     "output_type": "stream",
     "text": [
      "[True, True, True, False, True]\n"
     ]
    }
   ],
   "source": [
    "sol = Solution()\n",
    "candies = [2, 3, 5, 1, 3]\n",
    "extraCandies = 3\n",
    "print(sol.kidsWithCandies(candies, extraCandies))"
   ]
  }
 ],
 "metadata": {
  "kernelspec": {
   "display_name": "Python 3 (ipykernel)",
   "language": "python",
   "name": "python3"
  },
  "language_info": {
   "codemirror_mode": {
    "name": "ipython",
    "version": 3
   },
   "file_extension": ".py",
   "mimetype": "text/x-python",
   "name": "python",
   "nbconvert_exporter": "python",
   "pygments_lexer": "ipython3",
   "version": "3.9.7"
  }
 },
 "nbformat": 4,
 "nbformat_minor": 5
}
